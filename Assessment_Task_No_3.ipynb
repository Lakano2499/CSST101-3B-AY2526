{
  "cells": [
    {
      "cell_type": "markdown",
      "metadata": {
        "id": "view-in-github",
        "colab_type": "text"
      },
      "source": [
        "<a href=\"https://colab.research.google.com/github/Lakano2499/CSST101-3B-AY2526/blob/main/Assessment_Task_No_3.ipynb\" target=\"_parent\"><img src=\"https://colab.research.google.com/assets/colab-badge.svg\" alt=\"Open In Colab\"/></a>"
      ]
    },
    {
      "cell_type": "markdown",
      "source": [
        "# **1. Unification Checker**"
      ],
      "metadata": {
        "id": "oJf2kRy52SZY"
      }
    },
    {
      "cell_type": "code",
      "metadata": {
        "id": "fc2bc6d0"
      },
      "source": [
        "def unify(p1, p2):\n",
        "    f1, f2 = p1.split(\"(\")[0], p2.split(\"(\")[0]\n",
        "    if f1 != f2: return \"Cannot be unified\"\n",
        "\n",
        "    a1, a2 = p1[p1.find(\"(\")+1:-1].split(\",\"), p2[p2.find(\"(\")+1:-1].split(\",\")\n",
        "    if len(a1) != len(a2): return \"Cannot be unified\"\n",
        "\n",
        "    subs = {}\n",
        "    for x, y in zip(a1, a2):\n",
        "        x, y = x.strip(), y.strip()\n",
        "        if x == y: continue\n",
        "        if x.islower(): subs[x] = y\n",
        "        elif y.islower(): subs[y] = x\n",
        "        else: return \"Cannot be unified\"\n",
        "\n",
        "    return subs or \"Already unified\""
      ],
      "execution_count": null,
      "outputs": []
    },
    {
      "cell_type": "code",
      "metadata": {
        "colab": {
          "base_uri": "https://localhost:8080/"
        },
        "id": "6e72b97c",
        "outputId": "5efd91b5-0900-433e-be3e-9eaa83a11121"
      },
      "source": [
        "rule = \"Eligible(x) → Scholarship(x)\"\n",
        "fact = \"Eligible(Ana)\"\n",
        "\n",
        "# Extract the premise from the rule\n",
        "premise = rule.split(\"→\")[0].strip()\n",
        "\n",
        "# Unify the premise with the fact\n",
        "unification_result = unify(premise, fact)\n",
        "\n",
        "print(f\"Rule: {rule}\")\n",
        "print(f\"Fact: {fact}\")\n",
        "print(f\"Unification result: {unification_result}\")"
      ],
      "execution_count": null,
      "outputs": [
        {
          "output_type": "stream",
          "name": "stdout",
          "text": [
            "Rule: Eligible(x) → Scholarship(x)\n",
            "Fact: Eligible(Ana)\n",
            "Unification result: {'x': 'Ana'}\n"
          ]
        }
      ]
    },
    {
      "cell_type": "markdown",
      "source": [
        "# **2. Forward Chaining**"
      ],
      "metadata": {
        "id": "zH3uo2E-2XSA"
      }
    },
    {
      "cell_type": "code",
      "source": [
        "derived = {}\n",
        "\n",
        "for name, facts in students.items():\n",
        "    high = facts[\"HighGrades\"]\n",
        "    leader = facts[\"StudentLeader\"]\n",
        "    applied = facts[\"Applied\"]\n",
        "\n",
        "    eligible = high and leader and applied\n",
        "    scholarship = eligible\n",
        "    financial = scholarship\n",
        "\n",
        "    derived[name] = {\n",
        "        \"Eligible\": eligible,\n",
        "        \"Scholarship\": scholarship,\n",
        "        \"FinancialSupport\": financial\n",
        "    }\n",
        "\n",
        "# Show results for Juan & Ana\n",
        "print(\"Juan:\", derived[\"Juan\"])\n",
        "print(\"Ana:\", derived[\"Ana\"])\n",
        "print(\"Explanation:\")\n",
        "print(\"- Maria is not eligible because she did not apply.\")\n",
        "print(\"- Carlos is not eligible because he lacks high grades.\")"
      ],
      "metadata": {
        "id": "64JT3Hp12bLs"
      },
      "execution_count": null,
      "outputs": []
    },
    {
      "cell_type": "markdown",
      "source": [
        "# **3. Backward Chaining**"
      ],
      "metadata": {
        "id": "8vZxET2W2bb7"
      }
    },
    {
      "cell_type": "code",
      "source": [
        "# Define the derived dictionary as in the previous cell\n",
        "students = {\n",
        "    \"Juan\": {\"HighGrades\": True, \"StudentLeader\": False, \"Applied\": True},\n",
        "    \"Ana\": {\"HighGrades\": True, \"StudentLeader\": True, \"Applied\": True},\n",
        "    \"Maria\": {\"HighGrades\": True, \"StudentLeader\": False, \"Applied\": False},\n",
        "    \"Carlos\": {\"HighGrades\": False, \"StudentLeader\": True, \"Applied\": False},\n",
        "}\n",
        "\n",
        "derived = {}\n",
        "\n",
        "for name, facts in students.items():\n",
        "    high = facts[\"HighGrades\"]\n",
        "    leader = facts[\"StudentLeader\"]\n",
        "    applied = facts[\"Applied\"]\n",
        "\n",
        "    eligible = high and leader and applied\n",
        "    scholarship = eligible\n",
        "    financial = scholarship\n",
        "\n",
        "    derived[name] = {\n",
        "        \"Eligible\": eligible,\n",
        "        \"Scholarship\": scholarship,\n",
        "        \"FinancialSupport\": financial\n",
        "    }\n",
        "\n",
        "\n",
        "def backward_chain(goal, student):\n",
        "    # Goal can be \"Scholarship\" or \"FinancialSupport\"\n",
        "    steps = []\n",
        "    if goal == \"Scholarship\":\n",
        "        steps.append(f\"Check Scholarship({student})?\")\n",
        "        if derived[student][\"Scholarship\"]:\n",
        "            steps.append(\"→ Eligible is true, therefore Scholarship is true.\")\n",
        "        else:\n",
        "            steps.append(\"→ Not Eligible, so no Scholarship.\")\n",
        "    elif goal == \"FinancialSupport\":\n",
        "        steps.append(f\"Check FinancialSupport({student})?\")\n",
        "        if derived[student][\"FinancialSupport\"]:\n",
        "            steps.append(\"→ Scholarship is true, therefore FinancialSupport is true.\")\n",
        "        else:\n",
        "            steps.append(\"→ No Scholarship, so no FinancialSupport.\")\n",
        "    return steps\n",
        "\n",
        "print(\"Goal: Scholarship(Maria)\")\n",
        "print(\"\\n\".join(backward_chain(\"Scholarship\", \"Maria\")))\n",
        "\n",
        "print(\"\\nGoal: FinancialSupport(Ana)\")\n",
        "print(\"\\n\".join(backward_chain(\"FinancialSupport\", \"Ana\")))"
      ],
      "metadata": {
        "colab": {
          "base_uri": "https://localhost:8080/"
        },
        "id": "Tcgqk2ea2eln",
        "outputId": "633c7580-e07a-4602-a875-6f7eb5fa19bc"
      },
      "execution_count": null,
      "outputs": [
        {
          "output_type": "stream",
          "name": "stdout",
          "text": [
            "\n",
            "== Part 3: Backward Chaining ==\n",
            "Goal: Scholarship(Maria)\n",
            "Check Scholarship(Maria)?\n",
            "→ Not Eligible, so no Scholarship.\n",
            "\n",
            "Goal: FinancialSupport(Ana)\n",
            "Check FinancialSupport(Ana)?\n",
            "→ Scholarship is true, therefore FinancialSupport is true.\n"
          ]
        }
      ]
    },
    {
      "cell_type": "markdown",
      "source": [
        "# **4. Validity Check**"
      ],
      "metadata": {
        "id": "bRcjY6xr7WLK"
      }
    },
    {
      "cell_type": "code",
      "source": [
        "print(\"Rule: (HighGrades ∧ Leader ∧ Applied) → Eligible\")\n",
        "\n",
        "from itertools import product\n",
        "\n",
        "print(\"High | Leader | Applied | Eligible\")\n",
        "for h, l, a in product([0,1], [0,1], [0,1]):\n",
        "    eligible = (h and l and a)\n",
        "    print(f\" {h}   |   {l}    |    {a}    |    {int(eligible)}\")\n",
        "\n",
        "print(\"\\nTesting each student:\")\n",
        "for name, facts in students.items():\n",
        "    h, l, a = facts[\"HighGrades\"], facts[\"StudentLeader\"], facts[\"Applied\"]\n",
        "    eligible = (h and l and a)\n",
        "    print(f\"{name}: Eligible = {eligible}\")"
      ],
      "metadata": {
        "colab": {
          "base_uri": "https://localhost:8080/"
        },
        "id": "2I--OynB7v_v",
        "outputId": "6b265ee6-3cbf-4734-936e-72de482fb225"
      },
      "execution_count": null,
      "outputs": [
        {
          "output_type": "stream",
          "name": "stdout",
          "text": [
            "\n",
            "== Part 4: Truth Table ==\n",
            "Rule: (HighGrades ∧ Leader ∧ Applied) → Eligible\n",
            "High | Leader | Applied | Eligible\n",
            " 0   |   0    |    0    |    0\n",
            " 0   |   0    |    1    |    0\n",
            " 0   |   1    |    0    |    0\n",
            " 0   |   1    |    1    |    0\n",
            " 1   |   0    |    0    |    0\n",
            " 1   |   0    |    1    |    0\n",
            " 1   |   1    |    0    |    0\n",
            " 1   |   1    |    1    |    1\n",
            "\n",
            "Testing each student:\n",
            "Juan: Eligible = False\n",
            "Ana: Eligible = True\n",
            "Maria: Eligible = False\n",
            "Carlos: Eligible = False\n"
          ]
        }
      ]
    },
    {
      "cell_type": "markdown",
      "source": [
        "# **5. Reflection**"
      ],
      "metadata": {
        "id": "A_v_dmyz8Av_"
      }
    },
    {
      "cell_type": "markdown",
      "metadata": {
        "id": "a4e7e4ec"
      },
      "source": [
        "Logical reasoning is crucial in AI as it allows systems to infer conclusions from given information, enabling them to make informed decisions and solve complex problems. In real-life decision-making, it helps individuals analyze situations, evaluate options, and predict potential outcomes based on evidence and established principles. Both in AI and human cognition, logical reasoning provides a structured framework for understanding relationships and making sound judgments. This is essential for tasks ranging from medical diagnosis and financial planning to autonomous navigation and scientific discovery."
      ]
    }
  ],
  "metadata": {
    "colab": {
      "provenance": [],
      "include_colab_link": true
    },
    "kernelspec": {
      "display_name": "Python 3",
      "name": "python3"
    }
  },
  "nbformat": 4,
  "nbformat_minor": 0
}